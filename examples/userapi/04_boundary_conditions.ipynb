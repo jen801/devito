{
 "cells": [
  {
   "cell_type": "markdown",
   "metadata": {},
   "source": [
    "# Boundary conditions tutorial"
   ]
  },
  {
   "cell_type": "markdown",
   "metadata": {},
   "source": [
    "This tutorial aims to demonstrate how users can implement various boundary conditions in Devito, building on concepts introduced in previous tutorials. Over the course of this notebook we will go over the implementation of both free surface boundary conditions and perfectly-matched layers (PMLs) in the context of the first-order acoustic wave equation. This tutorial is based on a simplified version of the method outlined in Liu and Tao's 1997 paper (https://doi.org/10.1121/1.419657).\n",
    "\n",
    "We will set up our domain with PMLs along the left, right, and bottom edges, and free surface boundaries at the top as shown below.\n",
    "\n",
    "<img src=\"figures/boundary_conditions.png\" style=\"width: 220px;\"/>\n",
    "\n",
    "Note that whilst in practice we would want the PML tapers to overlap in the corners, this requires additional subdomains. As such, they are omitted for simplicity.\n",
    "\n",
    "As always, we will begin by specifying some parameters for our `Grid`:"
   ]
  },
  {
   "cell_type": "code",
   "execution_count": 1,
   "metadata": {},
   "outputs": [],
   "source": [
    "%matplotlib inline\n",
    "\n",
    "shape = (101, 101)\n",
    "extent = (2000., 2000.)\n",
    "nbpml = 10  # Number of PMLs on each side"
   ]
  },
  {
   "cell_type": "markdown",
   "metadata": {},
   "source": [
    "We will need to use subdomains to accomodate the modified equations in the PML regions. As `Grid` objects cannot have subdomains added retroactively, we must define our subdomains beforehand."
   ]
  },
  {
   "cell_type": "code",
   "execution_count": 2,
   "metadata": {},
   "outputs": [],
   "source": [
    "from devito import SubDomain\n",
    "\n",
    "s_o = 6  # Space order\n",
    "\n",
    "class MainDomain(SubDomain):  # Main section with no damping\n",
    "    name = 'main'\n",
    "    def __init__(self, PMLS, S_O):\n",
    "        super().__init__()\n",
    "        self.PMLS = PMLS\n",
    "        self.S_O = S_O\n",
    "\n",
    "    def define(self, dimensions):\n",
    "        x, y = dimensions\n",
    "        return {x: ('middle', self.PMLS, self.PMLS),\n",
    "                y: ('middle', self.S_O, self.PMLS)}\n",
    "\n",
    "\n",
    "class Left(SubDomain):  # Left PML region\n",
    "    name = 'left'\n",
    "    def __init__(self, PMLS):\n",
    "        super().__init__()\n",
    "        self.PMLS = PMLS\n",
    "\n",
    "    def define(self, dimensions):\n",
    "        x, y = dimensions\n",
    "        return {x: ('left', self.PMLS), y: y}\n",
    "\n",
    "\n",
    "class Right(SubDomain):  # Right PML region\n",
    "    name = 'right'\n",
    "    def __init__(self, PMLS):\n",
    "        super().__init__()\n",
    "        self.PMLS = PMLS\n",
    "\n",
    "    def define(self, dimensions):\n",
    "        x, y = dimensions\n",
    "        return {x: ('right', self.PMLS), y: y}\n",
    "    \n",
    "class Base(SubDomain):  # Base PML region\n",
    "    name = 'base'\n",
    "    def __init__(self, PMLS):\n",
    "        super().__init__()\n",
    "        self.PMLS = PMLS\n",
    "\n",
    "    def define(self, dimensions):\n",
    "        x, y = dimensions\n",
    "        return {x: ('middle', self.PMLS, self.PMLS), y: ('right', self.PMLS)}\n",
    "\n",
    "class FreeSurface(SubDomain):  # Free surface region\n",
    "    name = 'freesurface'\n",
    "    def __init__(self, PMLS, S_O):\n",
    "        super().__init__()\n",
    "        self.PMLS = PMLS\n",
    "        self.S_O = S_O\n",
    "        \n",
    "    def define(self, dimensions):\n",
    "        x, y = dimensions\n",
    "        return {x: ('middle', self.PMLS, self.PMLS), y: ('left', self.S_O)}\n",
    "\n",
    "main_domain = MainDomain(nbpml, s_o)\n",
    "left = Left(nbpml)\n",
    "right = Right(nbpml)\n",
    "base = Base(nbpml)\n",
    "freesurface = FreeSurface(nbpml, s_o)"
   ]
  },
  {
   "cell_type": "markdown",
   "metadata": {},
   "source": [
    "And create the grid, attaching our subdomains:"
   ]
  },
  {
   "cell_type": "code",
   "execution_count": 3,
   "metadata": {},
   "outputs": [],
   "source": [
    "from devito import Grid\n",
    "\n",
    "grid = Grid(shape=shape, extent=extent,\n",
    "            subdomains=(main_domain, left, right, base, freesurface))\n",
    "x, y = grid.dimensions"
   ]
  },
  {
   "cell_type": "markdown",
   "metadata": {},
   "source": [
    "We can then begin to specify our problem starting with some parameters."
   ]
  },
  {
   "cell_type": "code",
   "execution_count": 4,
   "metadata": {},
   "outputs": [],
   "source": [
    "density = 1.  # 1000kg/m^3\n",
    "velocity = 4.  # km/s\n",
    "gamma = 0.0002  # Absorption coefficient"
   ]
  },
  {
   "cell_type": "markdown",
   "metadata": {},
   "source": [
    "We also need a `TimeFunction` object for each of our wavefields. As particle velocity is a vector, we will choose a `VectorTimeFunction` object to encapsulate it."
   ]
  },
  {
   "cell_type": "code",
   "execution_count": 5,
   "metadata": {},
   "outputs": [],
   "source": [
    "from devito import TimeFunction, VectorTimeFunction, NODE\n",
    "\n",
    "p = TimeFunction(name='p', grid=grid, time_order=1,\n",
    "                 space_order=s_o, staggered=NODE)\n",
    "v = VectorTimeFunction(name='v', grid=grid, time_order=1,\n",
    "                       space_order=s_o)"
   ]
  },
  {
   "cell_type": "markdown",
   "metadata": {},
   "source": [
    "A `VectorTimeFunction` is near identical in function to a standard `TimeFunction`, albeit with a field for each grid dimension. The fields associated with each component can be accessed as follows:"
   ]
  },
  {
   "cell_type": "code",
   "execution_count": 6,
   "metadata": {},
   "outputs": [
    {
     "name": "stdout",
     "output_type": "stream",
     "text": [
      "[[[0. 0. 0. ... 0. 0. 0.]\n",
      "  [0. 0. 0. ... 0. 0. 0.]\n",
      "  [0. 0. 0. ... 0. 0. 0.]\n",
      "  ...\n",
      "  [0. 0. 0. ... 0. 0. 0.]\n",
      "  [0. 0. 0. ... 0. 0. 0.]\n",
      "  [0. 0. 0. ... 0. 0. 0.]]\n",
      "\n",
      " [[0. 0. 0. ... 0. 0. 0.]\n",
      "  [0. 0. 0. ... 0. 0. 0.]\n",
      "  [0. 0. 0. ... 0. 0. 0.]\n",
      "  ...\n",
      "  [0. 0. 0. ... 0. 0. 0.]\n",
      "  [0. 0. 0. ... 0. 0. 0.]\n",
      "  [0. 0. 0. ... 0. 0. 0.]]]\n"
     ]
    }
   ],
   "source": [
    "print(v[0].data)  # Print the data attribute associated with the x component of v"
   ]
  },
  {
   "cell_type": "markdown",
   "metadata": {},
   "source": [
    "You may have also noticed the keyword `staggered` in the arguments when we created these functions. As one might expect, these are used for specifying where derivatives should be evaluated relative to the grid, as required for implementing formulations such as the first-order acoustic wave equation or P-SV elastic. Passing a function `staggered=NODE` specifies that its derivatives should be evaluated at the node. One can also pass `staggered=x` or `staggered=y` to stagger the grid by half a spacing in those respective directions. Additionally, a tuple of dimensions can be passed to stagger in multiple directions (e.g. `staggered=(x, y)`). `VectorTimeFunction` objects have their associated grids staggered by default.\n",
    "\n",
    "We will also need to define a field for integrating pressure over time:"
   ]
  },
  {
   "cell_type": "code",
   "execution_count": 7,
   "metadata": {},
   "outputs": [],
   "source": [
    "p_i = TimeFunction(name='p_i', grid=grid, time_order=1,\n",
    "                   space_order=1, staggered=NODE)"
   ]
  },
  {
   "cell_type": "markdown",
   "metadata": {},
   "source": [
    "Next we prepare the source term:"
   ]
  },
  {
   "cell_type": "code",
   "execution_count": 8,
   "metadata": {},
   "outputs": [],
   "source": [
    "import numpy as np\n",
    "from examples.seismic import TimeAxis, RickerSource\n",
    "\n",
    "t0 = 0.  # Simulation starts at t=0\n",
    "tn = 400.  # Simulation length in ms\n",
    "dt = 1e2*(1. / np.sqrt(2.)) / 60.  # Time step\n",
    "\n",
    "time_range = TimeAxis(start=t0, stop=tn, step=dt)\n",
    "\n",
    "f0 = 0.02\n",
    "src = RickerSource(name='src', grid=grid, f0=f0,\n",
    "                   npoint=1, time_range=time_range)\n",
    "\n",
    "# Position source centrally in all dimensions\n",
    "src.coordinates.data[0, :] = 1000."
   ]
  },
  {
   "cell_type": "code",
   "execution_count": 9,
   "metadata": {
    "tags": [
     "nbval-skip"
    ]
   },
   "outputs": [
    {
     "data": {
      "image/png": "[encoded data removed]",
      "text/plain": [
       "<Figure size 576x432 with 1 Axes>"
      ]
     },
     "metadata": {
      "needs_background": "light"
     },
     "output_type": "display_data"
    }
   ],
   "source": [
    "src.show()"
   ]
  },
  {
   "cell_type": "markdown",
   "metadata": {},
   "source": [
    "For our PMLs, we will need some damping parameter. In this case, we will use a quadratic taper over the absorbing regions on the left and right sides of the domain."
   ]
  },
  {
   "cell_type": "code",
   "execution_count": 10,
   "metadata": {},
   "outputs": [],
   "source": [
    "# Damping parameterisation\n",
    "d_l = (1-0.1*x)**2  # Left side\n",
    "d_r = (1-0.1*(grid.shape[0]-1-x))**2  # Right side\n",
    "d_b = (1-0.1*(grid.shape[1]-1-y))**2  # Base edge"
   ]
  },
  {
   "cell_type": "markdown",
   "metadata": {},
   "source": [
    "Now for our main domain equations:"
   ]
  },
  {
   "cell_type": "code",
   "execution_count": 11,
   "metadata": {},
   "outputs": [],
   "source": [
    "from devito import Eq, grad, div\n",
    "\n",
    "eq_v = Eq(v.forward, v - dt*grad(p)/density,\n",
    "          subdomain=grid.subdomains['main'])\n",
    "\n",
    "eq_p = Eq(p.forward, p - dt*velocity**2*density*div(v.forward),\n",
    "           subdomain=grid.subdomains['main'])"
   ]
  },
  {
   "cell_type": "markdown",
   "metadata": {},
   "source": [
    "We will also need to set up `p_i` to calculate the integral of `p` over time for out PMLs:"
   ]
  },
  {
   "cell_type": "code",
   "execution_count": 12,
   "metadata": {},
   "outputs": [],
   "source": [
    "eq_p_i = Eq(p_i.forward, p_i + dt*(p.forward+p)/2)"
   ]
  },
  {
   "cell_type": "markdown",
   "metadata": {},
   "source": [
    "And add the equations for our damped region:"
   ]
  },
  {
   "cell_type": "code",
   "execution_count": 13,
   "metadata": {},
   "outputs": [],
   "source": [
    "# Left side\n",
    "eq_v_damp_left = Eq(v.forward,\n",
    "                    (1-d_l)*v - dt*grad(p)/density,\n",
    "                    subdomain=grid.subdomains['left'])\n",
    "\n",
    "eq_p_damp_left = Eq(p.forward,\n",
    "                    (1-gamma*velocity**2*dt-d_l*dt)*p\n",
    "                    - d_l*gamma*velocity**2*p_i\n",
    "                    - dt*velocity**2*density*div(v.forward),\n",
    "                    subdomain=grid.subdomains['left'])\n",
    "\n",
    "# Right side\n",
    "eq_v_damp_right = Eq(v.forward,\n",
    "                     (1-d_r)*v - dt*grad(p)/density,\n",
    "                     subdomain=grid.subdomains['right'])\n",
    "\n",
    "eq_p_damp_right = Eq(p.forward,\n",
    "                     (1-gamma*velocity**2*dt-d_r*dt)*p\n",
    "                     - d_r*gamma*velocity**2*p_i\n",
    "                     - dt*velocity**2*density*div(v.forward),\n",
    "                     subdomain=grid.subdomains['right'])\n",
    "\n",
    "# Base edge\n",
    "eq_v_damp_base = Eq(v.forward,\n",
    "                    (1-d_b)*v - dt*grad(p)/density,\n",
    "                    subdomain=grid.subdomains['base'])\n",
    "\n",
    "eq_p_damp_base = Eq(p.forward,\n",
    "                    (1-gamma*velocity**2*dt-d_b*dt)*p\n",
    "                    - d_b*gamma*velocity**2*p_i\n",
    "                    - dt*velocity**2*density*div(v.forward),\n",
    "                    subdomain=grid.subdomains['base'])"
   ]
  },
  {
   "cell_type": "markdown",
   "metadata": {},
   "source": [
    "Add our free surface boundary conditions:"
   ]
  },
  {
   "cell_type": "code",
   "execution_count": 14,
   "metadata": {},
   "outputs": [],
   "source": [
    "def freesurface_top(p_func, v_func):\n",
    "    time = p_func.grid.stepping_dim\n",
    "    pos = int(max(p_func.space_order, v_func.space_order)/2)\n",
    "    \n",
    "    bc_p = [Eq(p[time+1, x, pos], 0.)]\n",
    "    bc_v = [Eq(v[1][time+1, x, i], -v[1][time+1, x, 2*pos-i]) for i in range(pos)]\n",
    "    \n",
    "    return bc_p + bc_v\n",
    "\n",
    "# bc = freesurface_top(p, v)"
   ]
  },
  {
   "cell_type": "code",
   "execution_count": 15,
   "metadata": {},
   "outputs": [],
   "source": [
    "from devito import sign\n",
    "from devito.symbolics import retrieve_functions, INT\n",
    "\n",
    "def free_surface_top(eq, subdomain, update):\n",
    "    \"\"\"\n",
    "    Modify a stencil such that it is folded back on\n",
    "    itself rather than leaving the model domain. Depending\n",
    "    on how this is done, this can be used to implement\n",
    "    a pressure or velocity free-surface.\n",
    "    \n",
    "    Parameters\n",
    "    ----------\n",
    "    eq : Eq\n",
    "        The update stencil to modify\n",
    "    subdomain : FreeSurface\n",
    "        The subdomain in which the modification is\n",
    "        applied\n",
    "    update : str\n",
    "        The field being updated: 'pressure' or 'velocity'\n",
    "    \"\"\"\n",
    "    lhs, rhs = eq.evaluate.args\n",
    "    \n",
    "    # Get vertical subdimension and its parent\n",
    "    yfs = subdomain.dimensions[-1]\n",
    "    y = yfs.parent\n",
    "    \n",
    "    # Functions present in stencil\n",
    "    funcs = retrieve_functions(rhs)\n",
    "    mapper = {}\n",
    "    for f in funcs:\n",
    "        # Get the y index\n",
    "        yind = f.indices[-1]\n",
    "        if (yind - y).as_coeff_Mul()[0] < 0:\n",
    "            # If point position in stencil is negative\n",
    "            if update == 'velocity':\n",
    "                # Substitute the dimension for its subdomain companion\n",
    "                # Get the symbolic sign of this\n",
    "                s = sign(yind.subs({y: yfs, y.spacing: 1}))\n",
    "                # Substitute where index is negative for -ve where index is positive\n",
    "                mapper.update({f: s*f.subs({yind: INT(abs(yind))})})\n",
    "            elif update == 'pressure':\n",
    "                # Substitute where index is negative for +ve where index is positive\n",
    "                mapper.update({f: f.subs({yind: INT(abs(yind))})})\n",
    "            \n",
    "    return Eq(lhs, rhs.subs(mapper), subdomain=subdomain)\n",
    "    \n",
    "fs_p = free_surface_top(eq_p, freesurface, 'pressure')\n",
    "fs_v = free_surface_top(eq_v, freesurface, 'velocity')\n",
    "\n",
    "bc = [fs_p, fs_v]"
   ]
  },
  {
   "cell_type": "markdown",
   "metadata": {},
   "source": [
    "And our source terms:"
   ]
  },
  {
   "cell_type": "code",
   "execution_count": 16,
   "metadata": {},
   "outputs": [],
   "source": [
    "src_term = src.inject(field=p.forward, expr=src)"
   ]
  },
  {
   "cell_type": "markdown",
   "metadata": {},
   "source": [
    "Construct our operator and run:"
   ]
  },
  {
   "cell_type": "code",
   "execution_count": 17,
   "metadata": {
    "tags": [
     "nbval-ignore-output"
    ]
   },
   "outputs": [
    {
     "name": "stderr",
     "output_type": "stream",
     "text": [
      "/tmp/devito-jitcache-uid1000/f413be0c91da05a31782d4dcfef519773188dbff.c: In function ‘Kernel’:\n",
      "/tmp/devito-jitcache-uid1000/f413be0c91da05a31782d4dcfef519773188dbff.c:210:319: error: array subscript is not an integer\n",
      "  210 |         p[t1][i5x + 6][i5y + 6] = r14*(8.83883476448885e-2F*(v_x[t1][i5x + 3][i5y + 6] - v_x[t1][i5x + 8][i5y + 6]) + 1.22761593965144F*(-v_x[t1][i5x + 4][i5y + 6] + v_x[t1][i5x + 7][i5y + 6]) + 2.20970869120796e+1F*(v_x[t1][i5x + 5][i5y + 6] - v_x[t1][i5x + 6][i5y + 6])) + r15*(8.83883476448885e-2F*(v_y[t1][i5x + 6][11.0F/2.0F + (int)(fabs(i5y - 5.0F/2.0F))] - v_y[t1][i5x + 6][i5y + 8]) + 1.22761593965144F*(-v_y[t1][i5x + 6][11.0F/2.0F + (int)(fabs(i5y - 3.0F/2.0F))] + v_y[t1][i5x + 6][i5y + 7]) + 2.20970869120796e+1F*(v_y[t1][i5x + 6][11.0F/2.0F + (int)(fabs(i5y - 1.0F/2.0F))] - v_y[t1][i5x + 6][i5y + 6])) + p[t0][i5x + 6][i5y + 6];\n",
      "      |                                                                                                                                                                                                                                                                                                                               ^\n",
      "/tmp/devito-jitcache-uid1000/f413be0c91da05a31782d4dcfef519773188dbff.c:210:430: error: array subscript is not an integer\n",
      "  210 |         p[t1][i5x + 6][i5y + 6] = r14*(8.83883476448885e-2F*(v_x[t1][i5x + 3][i5y + 6] - v_x[t1][i5x + 8][i5y + 6]) + 1.22761593965144F*(-v_x[t1][i5x + 4][i5y + 6] + v_x[t1][i5x + 7][i5y + 6]) + 2.20970869120796e+1F*(v_x[t1][i5x + 5][i5y + 6] - v_x[t1][i5x + 6][i5y + 6])) + r15*(8.83883476448885e-2F*(v_y[t1][i5x + 6][11.0F/2.0F + (int)(fabs(i5y - 5.0F/2.0F))] - v_y[t1][i5x + 6][i5y + 8]) + 1.22761593965144F*(-v_y[t1][i5x + 6][11.0F/2.0F + (int)(fabs(i5y - 3.0F/2.0F))] + v_y[t1][i5x + 6][i5y + 7]) + 2.20970869120796e+1F*(v_y[t1][i5x + 6][11.0F/2.0F + (int)(fabs(i5y - 1.0F/2.0F))] - v_y[t1][i5x + 6][i5y + 6])) + p[t0][i5x + 6][i5y + 6];\n",
      "      |                                                                                                                                                                                                                                                                                                                                                                                                                                              ^\n",
      "/tmp/devito-jitcache-uid1000/f413be0c91da05a31782d4dcfef519773188dbff.c:210:543: error: array subscript is not an integer\n",
      "  210 |         p[t1][i5x + 6][i5y + 6] = r14*(8.83883476448885e-2F*(v_x[t1][i5x + 3][i5y + 6] - v_x[t1][i5x + 8][i5y + 6]) + 1.22761593965144F*(-v_x[t1][i5x + 4][i5y + 6] + v_x[t1][i5x + 7][i5y + 6]) + 2.20970869120796e+1F*(v_x[t1][i5x + 5][i5y + 6] - v_x[t1][i5x + 6][i5y + 6])) + r15*(8.83883476448885e-2F*(v_y[t1][i5x + 6][11.0F/2.0F + (int)(fabs(i5y - 5.0F/2.0F))] - v_y[t1][i5x + 6][i5y + 8]) + 1.22761593965144F*(-v_y[t1][i5x + 6][11.0F/2.0F + (int)(fabs(i5y - 3.0F/2.0F))] + v_y[t1][i5x + 6][i5y + 7]) + 2.20970869120796e+1F*(v_y[t1][i5x + 6][11.0F/2.0F + (int)(fabs(i5y - 1.0F/2.0F))] - v_y[t1][i5x + 6][i5y + 6])) + p[t0][i5x + 6][i5y + 6];\n",
      "      |                                                                                                                                                                                                                                                                                                                                                                                                                                                                                                                                                               ^\n",
      "FAILED compiler invocation:gcc -O3 -g -fPIC -Wall -std=c99 -march=native -Wno-unused-result -Wno-unused-variable -Wno-unused-but-set-variable -ffast-math -shared -fopenmp /tmp/devito-jitcache-uid1000/f413be0c91da05a31782d4dcfef519773188dbff.c -lm -o /tmp/devito-jitcache-uid1000/f413be0c91da05a31782d4dcfef519773188dbff.so\n"
     ]
    },
    {
     "ename": "CompileError",
     "evalue": "module compilation failed",
     "output_type": "error",
     "traceback": [
      "\u001b[0;31m---------------------------------------------------------------------------\u001b[0m",
      "\u001b[0;31mCompileError\u001b[0m                              Traceback (most recent call last)",
      "Input \u001b[0;32mIn [17]\u001b[0m, in \u001b[0;36m<cell line: 8>\u001b[0;34m()\u001b[0m\n\u001b[1;32m      1\u001b[0m \u001b[38;5;28;01mfrom\u001b[39;00m \u001b[38;5;21;01mdevito\u001b[39;00m \u001b[38;5;28;01mimport\u001b[39;00m Operator\n\u001b[1;32m      3\u001b[0m op \u001b[38;5;241m=\u001b[39m Operator([eq_v, eq_v_damp_left, eq_v_damp_base, eq_v_damp_right,\n\u001b[1;32m      4\u001b[0m                eq_p, eq_p_damp_left, eq_p_damp_base, eq_p_damp_right,\n\u001b[1;32m      5\u001b[0m                eq_p_i]\n\u001b[1;32m      6\u001b[0m                \u001b[38;5;241m+\u001b[39m src_term \u001b[38;5;241m+\u001b[39m bc)\n\u001b[0;32m----> 8\u001b[0m \u001b[43mop\u001b[49m\u001b[43m(\u001b[49m\u001b[43mtime\u001b[49m\u001b[38;5;241;43m=\u001b[39;49m\u001b[43mtime_range\u001b[49m\u001b[38;5;241;43m.\u001b[39;49m\u001b[43mnum\u001b[49m\u001b[38;5;241;43m-\u001b[39;49m\u001b[38;5;241;43m1\u001b[39;49m\u001b[43m)\u001b[49m\n",
      "File \u001b[0;32m~/devito/devito/operator/operator.py:653\u001b[0m, in \u001b[0;36mOperator.__call__\u001b[0;34m(self, **kwargs)\u001b[0m\n\u001b[1;32m    652\u001b[0m \u001b[38;5;28;01mdef\u001b[39;00m \u001b[38;5;21m__call__\u001b[39m(\u001b[38;5;28mself\u001b[39m, \u001b[38;5;241m*\u001b[39m\u001b[38;5;241m*\u001b[39mkwargs):\n\u001b[0;32m--> 653\u001b[0m     \u001b[38;5;28;01mreturn\u001b[39;00m \u001b[38;5;28;43mself\u001b[39;49m\u001b[38;5;241;43m.\u001b[39;49m\u001b[43mapply\u001b[49m\u001b[43m(\u001b[49m\u001b[38;5;241;43m*\u001b[39;49m\u001b[38;5;241;43m*\u001b[39;49m\u001b[43mkwargs\u001b[49m\u001b[43m)\u001b[49m\n",
      "File \u001b[0;32m~/devito/devito/operator/operator.py:724\u001b[0m, in \u001b[0;36mOperator.apply\u001b[0;34m(self, **kwargs)\u001b[0m\n\u001b[1;32m    722\u001b[0m arg_values \u001b[38;5;241m=\u001b[39m [args[p\u001b[38;5;241m.\u001b[39mname] \u001b[38;5;28;01mfor\u001b[39;00m p \u001b[38;5;129;01min\u001b[39;00m \u001b[38;5;28mself\u001b[39m\u001b[38;5;241m.\u001b[39mparameters]\n\u001b[1;32m    723\u001b[0m \u001b[38;5;28;01mtry\u001b[39;00m:\n\u001b[0;32m--> 724\u001b[0m     cfunction \u001b[38;5;241m=\u001b[39m \u001b[38;5;28;43mself\u001b[39;49m\u001b[38;5;241;43m.\u001b[39;49m\u001b[43mcfunction\u001b[49m\n\u001b[1;32m    725\u001b[0m     \u001b[38;5;28;01mwith\u001b[39;00m \u001b[38;5;28mself\u001b[39m\u001b[38;5;241m.\u001b[39m_profiler\u001b[38;5;241m.\u001b[39mtimer_on(\u001b[38;5;124m'\u001b[39m\u001b[38;5;124mapply\u001b[39m\u001b[38;5;124m'\u001b[39m, comm\u001b[38;5;241m=\u001b[39margs\u001b[38;5;241m.\u001b[39mcomm):\n\u001b[1;32m    726\u001b[0m         cfunction(\u001b[38;5;241m*\u001b[39marg_values)\n",
      "File \u001b[0;32m~/devito/devito/operator/operator.py:606\u001b[0m, in \u001b[0;36mOperator.cfunction\u001b[0;34m(self)\u001b[0m\n\u001b[1;32m    604\u001b[0m \u001b[38;5;124;03m\"\"\"The JIT-compiled C function as a ctypes.FuncPtr object.\"\"\"\u001b[39;00m\n\u001b[1;32m    605\u001b[0m \u001b[38;5;28;01mif\u001b[39;00m \u001b[38;5;28mself\u001b[39m\u001b[38;5;241m.\u001b[39m_lib \u001b[38;5;129;01mis\u001b[39;00m \u001b[38;5;28;01mNone\u001b[39;00m:\n\u001b[0;32m--> 606\u001b[0m     \u001b[38;5;28;43mself\u001b[39;49m\u001b[38;5;241;43m.\u001b[39;49m\u001b[43m_jit_compile\u001b[49m\u001b[43m(\u001b[49m\u001b[43m)\u001b[49m\n\u001b[1;32m    607\u001b[0m     \u001b[38;5;28mself\u001b[39m\u001b[38;5;241m.\u001b[39m_lib \u001b[38;5;241m=\u001b[39m \u001b[38;5;28mself\u001b[39m\u001b[38;5;241m.\u001b[39m_compiler\u001b[38;5;241m.\u001b[39mload(\u001b[38;5;28mself\u001b[39m\u001b[38;5;241m.\u001b[39m_soname)\n\u001b[1;32m    608\u001b[0m     \u001b[38;5;28mself\u001b[39m\u001b[38;5;241m.\u001b[39m_lib\u001b[38;5;241m.\u001b[39mname \u001b[38;5;241m=\u001b[39m \u001b[38;5;28mself\u001b[39m\u001b[38;5;241m.\u001b[39m_soname\n",
      "File \u001b[0;32m~/devito/devito/operator/operator.py:591\u001b[0m, in \u001b[0;36mOperator._jit_compile\u001b[0;34m(self)\u001b[0m\n\u001b[1;32m    589\u001b[0m \u001b[38;5;28;01mif\u001b[39;00m \u001b[38;5;28mself\u001b[39m\u001b[38;5;241m.\u001b[39m_lib \u001b[38;5;129;01mis\u001b[39;00m \u001b[38;5;28;01mNone\u001b[39;00m:\n\u001b[1;32m    590\u001b[0m     \u001b[38;5;28;01mwith\u001b[39;00m \u001b[38;5;28mself\u001b[39m\u001b[38;5;241m.\u001b[39m_profiler\u001b[38;5;241m.\u001b[39mtimer_on(\u001b[38;5;124m'\u001b[39m\u001b[38;5;124mjit-compile\u001b[39m\u001b[38;5;124m'\u001b[39m):\n\u001b[0;32m--> 591\u001b[0m         recompiled, src_file \u001b[38;5;241m=\u001b[39m \u001b[38;5;28;43mself\u001b[39;49m\u001b[38;5;241;43m.\u001b[39;49m\u001b[43m_compiler\u001b[49m\u001b[38;5;241;43m.\u001b[39;49m\u001b[43mjit_compile\u001b[49m\u001b[43m(\u001b[49m\u001b[38;5;28;43mself\u001b[39;49m\u001b[38;5;241;43m.\u001b[39;49m\u001b[43m_soname\u001b[49m\u001b[43m,\u001b[49m\n\u001b[1;32m    592\u001b[0m \u001b[43m                                                          \u001b[49m\u001b[38;5;28;43mstr\u001b[39;49m\u001b[43m(\u001b[49m\u001b[38;5;28;43mself\u001b[39;49m\u001b[38;5;241;43m.\u001b[39;49m\u001b[43mccode\u001b[49m\u001b[43m)\u001b[49m\u001b[43m)\u001b[49m\n\u001b[1;32m    594\u001b[0m     elapsed \u001b[38;5;241m=\u001b[39m \u001b[38;5;28mself\u001b[39m\u001b[38;5;241m.\u001b[39m_profiler\u001b[38;5;241m.\u001b[39mpy_timers[\u001b[38;5;124m'\u001b[39m\u001b[38;5;124mjit-compile\u001b[39m\u001b[38;5;124m'\u001b[39m]\n\u001b[1;32m    595\u001b[0m     \u001b[38;5;28;01mif\u001b[39;00m recompiled:\n",
      "File \u001b[0;32m~/devito/devito/arch/compiler.py:319\u001b[0m, in \u001b[0;36mCompiler.jit_compile\u001b[0;34m(self, soname, code)\u001b[0m\n\u001b[1;32m    317\u001b[0m \u001b[38;5;28;01mwith\u001b[39;00m warnings\u001b[38;5;241m.\u001b[39mcatch_warnings():\n\u001b[1;32m    318\u001b[0m     warnings\u001b[38;5;241m.\u001b[39msimplefilter(\u001b[38;5;124m'\u001b[39m\u001b[38;5;124mignore\u001b[39m\u001b[38;5;124m'\u001b[39m)\n\u001b[0;32m--> 319\u001b[0m     _, _, _, recompiled \u001b[38;5;241m=\u001b[39m \u001b[43mcompile_from_string\u001b[49m\u001b[43m(\u001b[49m\u001b[38;5;28;43mself\u001b[39;49m\u001b[43m,\u001b[49m\u001b[43m \u001b[49m\u001b[43mtarget\u001b[49m\u001b[43m,\u001b[49m\u001b[43m \u001b[49m\u001b[43mcode\u001b[49m\u001b[43m,\u001b[49m\u001b[43m \u001b[49m\u001b[43msrc_file\u001b[49m\u001b[43m,\u001b[49m\n\u001b[1;32m    320\u001b[0m \u001b[43m                                              \u001b[49m\u001b[43mcache_dir\u001b[49m\u001b[38;5;241;43m=\u001b[39;49m\u001b[43mcache_dir\u001b[49m\u001b[43m,\u001b[49m\u001b[43m \u001b[49m\u001b[43mdebug\u001b[49m\u001b[38;5;241;43m=\u001b[39;49m\u001b[43mdebug\u001b[49m\u001b[43m,\u001b[49m\n\u001b[1;32m    321\u001b[0m \u001b[43m                                              \u001b[49m\u001b[43msleep_delay\u001b[49m\u001b[38;5;241;43m=\u001b[39;49m\u001b[43msleep_delay\u001b[49m\u001b[43m)\u001b[49m\n\u001b[1;32m    323\u001b[0m \u001b[38;5;28;01mreturn\u001b[39;00m recompiled, src_file\n",
      "File \u001b[0;32m~/anaconda3/envs/devito/lib/python3.8/site-packages/codepy/jit.py:433\u001b[0m, in \u001b[0;36mcompile_from_string\u001b[0;34m(toolchain, name, source_string, source_name, cache_dir, debug, wait_on_error, debug_recompile, object, source_is_binary, sleep_delay)\u001b[0m\n\u001b[1;32m    431\u001b[0m     toolchain\u001b[38;5;241m.\u001b[39mbuild_object(ext_file, source_paths, debug\u001b[38;5;241m=\u001b[39mdebug)\n\u001b[1;32m    432\u001b[0m \u001b[38;5;28;01melse\u001b[39;00m:\n\u001b[0;32m--> 433\u001b[0m     \u001b[43mtoolchain\u001b[49m\u001b[38;5;241;43m.\u001b[39;49m\u001b[43mbuild_extension\u001b[49m\u001b[43m(\u001b[49m\u001b[43mext_file\u001b[49m\u001b[43m,\u001b[49m\u001b[43m \u001b[49m\u001b[43msource_paths\u001b[49m\u001b[43m,\u001b[49m\u001b[43m \u001b[49m\u001b[43mdebug\u001b[49m\u001b[38;5;241;43m=\u001b[39;49m\u001b[43mdebug\u001b[49m\u001b[43m)\u001b[49m\n\u001b[1;32m    435\u001b[0m \u001b[38;5;28;01mif\u001b[39;00m info_path \u001b[38;5;129;01mis\u001b[39;00m \u001b[38;5;129;01mnot\u001b[39;00m \u001b[38;5;28;01mNone\u001b[39;00m:\n\u001b[1;32m    436\u001b[0m     \u001b[38;5;28;01mfrom\u001b[39;00m \u001b[38;5;21;01msix\u001b[39;00m\u001b[38;5;21;01m.\u001b[39;00m\u001b[38;5;21;01mmoves\u001b[39;00m\u001b[38;5;21;01m.\u001b[39;00m\u001b[38;5;21;01mcPickle\u001b[39;00m \u001b[38;5;28;01mimport\u001b[39;00m dump\n",
      "File \u001b[0;32m~/anaconda3/envs/devito/lib/python3.8/site-packages/codepy/toolchain.py:210\u001b[0m, in \u001b[0;36mGCCLikeToolchain.build_extension\u001b[0;34m(self, ext_file, source_files, debug)\u001b[0m\n\u001b[1;32m    207\u001b[0m \u001b[38;5;28;01mimport\u001b[39;00m \u001b[38;5;21;01msys\u001b[39;00m\n\u001b[1;32m    208\u001b[0m \u001b[38;5;28mprint\u001b[39m(\u001b[38;5;124m\"\u001b[39m\u001b[38;5;124mFAILED compiler invocation:\u001b[39m\u001b[38;5;124m\"\u001b[39m \u001b[38;5;241m+\u001b[39m \u001b[38;5;124m\"\u001b[39m\u001b[38;5;124m \u001b[39m\u001b[38;5;124m\"\u001b[39m\u001b[38;5;241m.\u001b[39mjoin(cc_cmdline),\n\u001b[1;32m    209\u001b[0m       file\u001b[38;5;241m=\u001b[39msys\u001b[38;5;241m.\u001b[39mstderr)\n\u001b[0;32m--> 210\u001b[0m \u001b[38;5;28;01mraise\u001b[39;00m CompileError(\u001b[38;5;124m\"\u001b[39m\u001b[38;5;124mmodule compilation failed\u001b[39m\u001b[38;5;124m\"\u001b[39m)\n",
      "\u001b[0;31mCompileError\u001b[0m: module compilation failed"
     ]
    }
   ],
   "source": [
    "from devito import Operator\n",
    "\n",
    "op = Operator([eq_v, eq_v_damp_left, eq_v_damp_base, eq_v_damp_right,\n",
    "               eq_p, eq_p_damp_left, eq_p_damp_base, eq_p_damp_right,\n",
    "               eq_p_i]\n",
    "               + src_term + bc)\n",
    "\n",
    "op(time=time_range.num-1)"
   ]
  },
  {
   "cell_type": "markdown",
   "metadata": {},
   "source": [
    "It is important to remember that the ordering of equations when an `Operator` is created dictates the order of loops within the generated c code. As such, the `v` equations all need to be placed before the `p` ones otherwise the operator will attempt to use the updated `v` fields before they have been updated.\n",
    "\n",
    "Now let's plot the wavefield."
   ]
  },
  {
   "cell_type": "code",
   "execution_count": null,
   "metadata": {
    "scrolled": true,
    "tags": [
     "nbval-skip"
    ]
   },
   "outputs": [],
   "source": [
    "import matplotlib.pyplot as plt\n",
    "\n",
    "p.data[:, :, :3] = 0 #  Mute out mirrored wavefield above free surface\n",
    "\n",
    "scale = np.max(p.data[1])\n",
    "# fig = plt.figure()\n",
    "plt.imshow(p.data[1].T/scale,\n",
    "           origin=\"upper\",\n",
    "           vmin=-1, vmax=1,\n",
    "           extent=[0, grid.extent[0], grid.extent[1], 0],\n",
    "           cmap='seismic')\n",
    "plt.colorbar()\n",
    "plt.xlabel(\"x (m)\")\n",
    "plt.ylabel(\"y (m)\")\n",
    "plt.show()"
   ]
  },
  {
   "cell_type": "markdown",
   "metadata": {},
   "source": [
    "As we can see, the wave is effectively damped at the edge of the domain by the 10 layers of PMLs, with diminished reflections back into the domain."
   ]
  }
 ],
 "metadata": {
  "celltoolbar": "Tags",
  "kernelspec": {
   "display_name": "Python 3 (ipykernel)",
   "language": "python",
   "name": "python3"
  },
  "language_info": {
   "codemirror_mode": {
    "name": "ipython",
    "version": 3
   },
   "file_extension": ".py",
   "mimetype": "text/x-python",
   "name": "python",
   "nbconvert_exporter": "python",
   "pygments_lexer": "ipython3",
   "version": "3.8.5"
  }
 },
 "nbformat": 4,
 "nbformat_minor": 4
}
